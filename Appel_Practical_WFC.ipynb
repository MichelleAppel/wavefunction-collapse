{
  "nbformat": 4,
  "nbformat_minor": 0,
  "metadata": {
    "colab": {
      "name": "Appel Practical_WFC.ipynb",
      "provenance": [],
      "collapsed_sections": [],
      "include_colab_link": true
    },
    "kernelspec": {
      "name": "python3",
      "display_name": "Python 3"
    },
    "language_info": {
      "name": "python"
    }
  },
  "cells": [
    {
      "cell_type": "markdown",
      "metadata": {
        "id": "view-in-github",
        "colab_type": "text"
      },
      "source": [
        "<a href=\"https://colab.research.google.com/github/MichelleAppel/wavefunction-collapse/blob/main/Appel_Practical_WFC.ipynb\" target=\"_parent\"><img src=\"https://colab.research.google.com/assets/colab-badge.svg\" alt=\"Open In Colab\"/></a>"
      ]
    },
    {
      "cell_type": "markdown",
      "source": [
        "```\n",
        "SOW-MKI95 Computer Graphics & Computer Vision\n",
        "Wave function collapse\n",
        "```"
      ],
      "metadata": {
        "id": "ki29hwtllVZM"
      }
    },
    {
      "cell_type": "markdown",
      "source": [
        "```\n",
        "Group number: ...\n",
        "Student 1 name/number: ...\n",
        "Student 2 name/number: ...\n",
        "...\n",
        "```"
      ],
      "metadata": {
        "id": "GnFb5JEulhxJ"
      }
    },
    {
      "cell_type": "code",
      "source": [
        "import collections\n",
        "\n",
        "from PIL import Image\n",
        "\n",
        "import numpy as np"
      ],
      "metadata": {
        "id": "2CFOnuNy6Z8-"
      },
      "execution_count": 238,
      "outputs": []
    },
    {
      "cell_type": "markdown",
      "source": [
        "# Wave function collapse\n",
        "\n",
        "In quantum mechanics, WFC is the phenomenon where a wave function (\"all possible trajectories in superposition\") gets transformed into a localized (\"collapsed\") particle upon interaction with a detector. [The WFC algorithm](https://github.com/mxgmn/WaveFunctionCollapse) for procedural texture synthesis is loosely inspired on this phenomenon: it initializes a bitmap where each $N \\times N$ patch is in superposition of all possible patterns (max. entropy). Upon (random) detection by the algorithm, a patch collapses into a state of certainty (min. entropy). Importantly, not all patterns are allowed to be adjacent to each other such that a collapsed state influences the possible states of its neighboring patches and their neighbors and so on and so forth. When the algorithm finishes, you have a newly synthesized tilemap.\n",
        "\n"
      ],
      "metadata": {
        "id": "uvN4zqG7taar"
      }
    },
    {
      "cell_type": "markdown",
      "source": [
        "## Task 1: Create constraint dictionary (30 points)\n",
        "\n",
        "Choose an input bitmap from [here](https://github.com/mxgmn/WaveFunctionCollapse/tree/master/samples). Load and plot it.\n",
        "\n",
        "Set a patch size (e.g., 4 $\\times$ 4 pixels) and build a dictionary of all the patches in this bitmap image and their direct neighbors. Our to-be-synthesized bitmap will check this dictionary to see which patterns can live next to each current patch.\n",
        "\n",
        "One way to store the neighboring constraints is by setting each key to be the current patch (tuple of flattened pixel values) and its values to be a tuple of five values: up_neighbbors (list), right_neighbbors (list), bottom-neighbbors (list), left-neighbbors (list), weight (int). Each list will store the possible neighbors (list of tuples of flattened pixel values). The weight $w$ is the total number of possible neighbors which we will need later to compute the entropy of a patch. Note that you can simply add more neighbors to each list if a key already exists in the dictionary.\n",
        "\n",
        "*Bonus: augment the possible states in your dictionary with rotations and reflections. Make sure your augmentations make sense; it is not realistic if plants grow out of the sky (unless it's what you intend to create).*"
      ],
      "metadata": {
        "id": "xai9TaBtP6UO"
      }
    },
    {
      "cell_type": "code",
      "source": [
        "bitmap = Image.open('Skyline2.png')\n",
        "bitmap.resize((256, 256), resample=0)"
      ],
      "metadata": {
        "id": "TQIdkociMzDW",
        "outputId": "0e3cb00f-7471-4050-fccd-ebe050384235",
        "colab": {
          "base_uri": "https://localhost:8080/",
          "height": 273
        }
      },
      "execution_count": 239,
      "outputs": [
        {
          "output_type": "execute_result",
          "data": {
            "text/plain": [
              "<PIL.Image.Image image mode=RGBA size=256x256 at 0x7F80653FF090>"
            ],
            "image/png": "[encoded data removed]"
          },
          "metadata": {},
          "execution_count": 239
        }
      ]
    },
    {
      "cell_type": "code",
      "source": [
        "def sliding_window(image, stepSize, windowSize):\n",
        "  for y in range(0, image.shape[0]-windowSize[0]+1, stepSize):\n",
        "    for x in range(0, image.shape[1]-windowSize[1]+1, stepSize):\n",
        "      patch = image[y:y + windowSize[1], x:x + windowSize[0]]\n",
        "      up_neighbour = image[y - windowSize[1]:y, x:x + windowSize[0]]\n",
        "      down_neighbour = image[y + windowSize[1]:y + 2*windowSize[1], x:x + windowSize[0]]\n",
        "      left_neighbour = image[y - windowSize[1]:y, x - windowSize[0]:x]\n",
        "      right_neighbour = image[y - windowSize[1]:y, x + windowSize[0]:x + 2*windowSize[0]]\n",
        "      yield (patch, [up_neighbour], [down_neighbour], [left_neighbour], [right_neighbour])"
      ],
      "metadata": {
        "id": "pQLDoE-F-UBn"
      },
      "execution_count": 240,
      "outputs": []
    },
    {
      "cell_type": "code",
      "source": [
        "def to_array(tup, size):\n",
        "  return np.array(tup).reshape(size, size, 3)"
      ],
      "metadata": {
        "id": "ajOGATcphexW"
      },
      "execution_count": 241,
      "outputs": []
    },
    {
      "cell_type": "code",
      "source": [
        "def to_tuple(array):\n",
        "  return tuple(array.flatten())"
      ],
      "metadata": {
        "id": "fVl0VjG2hxi2"
      },
      "execution_count": 242,
      "outputs": []
    },
    {
      "cell_type": "code",
      "source": [
        "def to_image(array):\n",
        "  return Image.fromarray(array)"
      ],
      "metadata": {
        "id": "WBdq9jb_k7Rs"
      },
      "execution_count": 243,
      "outputs": []
    },
    {
      "cell_type": "code",
      "source": [
        "def tuple_to_image(tup, size):\n",
        "  return to_image(to_array(tup, size))"
      ],
      "metadata": {
        "id": "oz0WiFgulCp9"
      },
      "execution_count": 244,
      "outputs": []
    },
    {
      "cell_type": "code",
      "source": [
        "def blend(img1, img2, alpha=0.5):\n",
        "  return Image.blend(img1, img2, alpha)"
      ],
      "metadata": {
        "id": "u1gXJzqTlTOF"
      },
      "execution_count": 245,
      "outputs": []
    },
    {
      "cell_type": "code",
      "source": [
        "def blend_and_visualize(img1, img2, alpha=0.5):\n",
        "  return blend(img1, img2, alpha).resize((128, 128), resample=0)"
      ],
      "metadata": {
        "id": "7Mqm7b0mlhA2"
      },
      "execution_count": 246,
      "outputs": []
    },
    {
      "cell_type": "code",
      "source": [
        "def visualize(array):\n",
        "  bitmap = Image.fromarray(array)\n",
        "  return bitmap.resize((128, 128), resample=0)"
      ],
      "metadata": {
        "id": "etVql5S1iACG"
      },
      "execution_count": 247,
      "outputs": []
    },
    {
      "cell_type": "code",
      "source": [
        "patch_size = 4\n",
        "bitmap_array = np.array(bitmap)[:, :, :-1]\n",
        "\n",
        "neighbour_dict = {} # The dictonary that will store all neighbours\n",
        "patches = sliding_window(bitmap_array, 1, (patch_size, patch_size)) # A generator for the patches\n",
        "for patch in patches:\n",
        "  key = to_tuple(patch[0])\n",
        "  neighbours = list(patch[1:])\n",
        "  if key in neighbour_dict.keys():\n",
        "    for i in range(len(neighbours)):\n",
        "      neighbour_dict[key][i] += neighbours[i]\n",
        "      neighbour_dict[key][-1] += 1\n",
        "  else:\n",
        "    neighbour_dict[key] = neighbours + [1]"
      ],
      "metadata": {
        "id": "jRSKA4XC-AiQ"
      },
      "execution_count": 248,
      "outputs": []
    },
    {
      "cell_type": "code",
      "source": [
        "# Example patch\n",
        "k = list(neighbour_dict.keys())[200]\n",
        "visualize(to_array(k, 4))"
      ],
      "metadata": {
        "colab": {
          "base_uri": "https://localhost:8080/",
          "height": 145
        },
        "id": "q8YLFnBOewW5",
        "outputId": "23a3de72-1fc0-4aa3-fe5b-72429fa787c7"
      },
      "execution_count": 249,
      "outputs": [
        {
          "output_type": "execute_result",
          "data": {
            "text/plain": [
              "<PIL.Image.Image image mode=RGB size=128x128 at 0x7F8063AD8390>"
            ],
            "image/png": "[encoded data removed]"
          },
          "metadata": {},
          "execution_count": 249
        }
      ]
    },
    {
      "cell_type": "code",
      "source": [
        "# Upstairs neighbour\n",
        "neighbours = neighbour_dict[k]\n",
        "visualize(to_array(neighbours[3][0], 4))"
      ],
      "metadata": {
        "colab": {
          "base_uri": "https://localhost:8080/",
          "height": 145
        },
        "id": "HMQROHNNi9xo",
        "outputId": "47c78dcf-bbd0-42d2-836b-8dc50cd0000b"
      },
      "execution_count": 250,
      "outputs": [
        {
          "output_type": "execute_result",
          "data": {
            "text/plain": [
              "<PIL.Image.Image image mode=RGB size=128x128 at 0x7F80656C8F50>"
            ],
            "image/png": "[encoded data removed]"
          },
          "metadata": {},
          "execution_count": 250
        }
      ]
    },
    {
      "cell_type": "markdown",
      "source": [
        "You specify the dimensions of your output (to-be-synthesized) bitmap to be $M \\times M$ patches. In the beginning, all the patches within this bitmap are in **superposition** which means that every pattern is possible at every position. When the algorithm starts with observation-and-propagation, it is important to keep track of two values per patch:\n",
        "\n",
        "- Potential\n",
        "- Entropy\n",
        "\n",
        "Potential is a boolean array of shape $M \\times M \\times total\\_num\\_patterns$ where each entry is initially set to True (because everything is possible when a patch is in superposition). It keeps track of all the possible patterns that each patch can collapse to. \n",
        "\n",
        "Entropy is computed as follows:\n",
        "\n",
        "\\begin{equation}\n",
        "    E = - p * \\log_2 p + ϵ\n",
        "\\end{equation}\n",
        "\n",
        "where $p$, for each patch, can be computed as $w$ / sum(all $w$) * sum(potential). Initially, all patches have the same full potential (i.e. $total\\_num\\_patterns$) and thus the same (max.) entropy. For this reason, we add some small random number ϵ to help the algorithm decide which patch to select first based on entropy."
      ],
      "metadata": {
        "id": "ewgG6ZFQxViV"
      }
    },
    {
      "cell_type": "markdown",
      "source": [
        "## Task 2 Create the wave (30 points)\n",
        "\n",
        "\n",
        "Create an output bitmap of $M \\times M$ patches. Each patch within this output image is of size $N \\times N \\times 3$ pixels. Plot the (initial) wave image where all patches are in superposition by doing the following for each patch in the output bitmap:\n",
        "\n",
        "1. Check where potential is set to True and take the corresponding patterns\n",
        "2. Blend all these patterns (e.g., use Image.blend() from PIL)\n",
        "\n"
      ],
      "metadata": {
        "id": "X0ab7QDwR1UE"
      }
    },
    {
      "cell_type": "code",
      "source": [
        "M = 8\n",
        "\n",
        "all_patches = list(neighbour_dict.keys())\n",
        "\n",
        "potential = np.ones((M, M, len(all_patches)), dtype=bool)"
      ],
      "metadata": {
        "id": "wR2uoDVxs6IS"
      },
      "execution_count": 319,
      "outputs": []
    },
    {
      "cell_type": "code",
      "source": [
        "entropy = []\n",
        "\n",
        "all_w = []\n",
        "for patch in all_patches:\n",
        "  all_w += [neighbour_dict[patch][4]]"
      ],
      "metadata": {
        "id": "WZpJcVHHvDqY"
      },
      "execution_count": 320,
      "outputs": []
    },
    {
      "cell_type": "code",
      "source": [
        "sum_w = sum(all_w)\n",
        "mean_w = np.array(all_w)/sum_w\n",
        "p = np.expand_dims(potential.sum(-1), -1) * mean_w"
      ],
      "metadata": {
        "id": "Bczmy8u6vZKQ"
      },
      "execution_count": 321,
      "outputs": []
    },
    {
      "cell_type": "code",
      "source": [
        "epsilon = np.random.rand(*p.shape)/10\n",
        "entropy = -p*np.log2(p) + epsilon"
      ],
      "metadata": {
        "id": "gvvU1gIIxVJw"
      },
      "execution_count": 322,
      "outputs": []
    },
    {
      "cell_type": "code",
      "source": [
        "average_patch = np.array(np.array(all_patches).reshape(len(all_patches),4,4,3).mean(0), dtype=np.uint8)"
      ],
      "metadata": {
        "id": "IAe0ro0Gq__K"
      },
      "execution_count": 323,
      "outputs": []
    },
    {
      "cell_type": "code",
      "source": [
        "init_map = np.zeros((potential.shape[0]*patch_size, potential.shape[1]*patch_size, 3), dtype=np.uint8)\n",
        "\n",
        "for x in range(0, len(potential)):\n",
        "  for y in range(0, len(potential[x])):\n",
        "    mean_patch = np.array(all_patches)[potential[x][y]].mean(0)\n",
        "    init_map[patch_size*x:patch_size*x+patch_size, patch_size*y:patch_size*y+patch_size] = np.array(mean_patch.reshape(4,4,3), dtype=np.uint8)"
      ],
      "metadata": {
        "id": "xAW-D3yY8liv"
      },
      "execution_count": 324,
      "outputs": []
    },
    {
      "cell_type": "code",
      "source": [
        "visualize(init_map)"
      ],
      "metadata": {
        "colab": {
          "base_uri": "https://localhost:8080/",
          "height": 145
        },
        "id": "IIeWS89DTEhF",
        "outputId": "009f6a75-7d22-419d-d143-9eaadd53fe0f"
      },
      "execution_count": 325,
      "outputs": [
        {
          "output_type": "execute_result",
          "data": {
            "text/plain": [
              "<PIL.Image.Image image mode=RGB size=128x128 at 0x7F8065457950>"
            ],
            "image/png": "[encoded data removed]"
          },
          "metadata": {},
          "execution_count": 325
        }
      ]
    },
    {
      "cell_type": "markdown",
      "source": [
        "## Task 3 Implement the algorithm (30 points)\n",
        "\n",
        "WFC repeatedly applies observation and propagation until all patches are collapsed. \n",
        "\n",
        "- **Observation:** take the patch with the lowest entropy and collapse its state. When a patch is collapsed, set the respective potential entry to True and all the other entries to False. Set its entropy to infinite.\n",
        "- **Propagation:** update all the other patches such that impossible neighbors are set to to false. You may use the stack below to do this: push neighbors to the stack if they need to be checked/updated and pop patches from the stack that you just visited and whose potential has been updated. In the end, make sure entropy is updated too."
      ],
      "metadata": {
        "id": "0X5ZszE1z3jy"
      }
    },
    {
      "cell_type": "code",
      "source": [
        "class Stack:\n",
        "    def __init__(self):\n",
        "        self.deque = collections.deque()\n",
        "\n",
        "    def __len__(self):\n",
        "        return self.deque.__len__()\n",
        "\n",
        "    def peek(self):\n",
        "        return self.deque[-1]\n",
        "\n",
        "    def push(self, value):\n",
        "        self.deque.append(value)\n",
        "\n",
        "    def pop(self):\n",
        "        return self.deque.pop()"
      ],
      "metadata": {
        "id": "0Ss6jEul6UfT"
      },
      "execution_count": null,
      "outputs": []
    },
    {
      "cell_type": "code",
      "source": [
        "###"
      ],
      "metadata": {
        "id": "w8HLJrtS6Uj-"
      },
      "execution_count": null,
      "outputs": []
    },
    {
      "cell_type": "markdown",
      "source": [
        "## Task 4 Create a gif (10 points)\n",
        "\n",
        "For each observe-propagate cycle, plot and save the (updated) output image. Create a gif from superposition to fully-observed synthesized texture. Submit this gif with your notebook."
      ],
      "metadata": {
        "id": "0LE6pOot1Jy7"
      }
    },
    {
      "cell_type": "code",
      "source": [
        "###"
      ],
      "metadata": {
        "id": "Ovy6C-IHMzKa"
      },
      "execution_count": null,
      "outputs": []
    }
  ]
}